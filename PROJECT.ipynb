{
 "cells": [
  {
   "cell_type": "code",
   "execution_count": 13,
   "metadata": {},
   "outputs": [],
   "source": [
    "import numpy as np\n",
    "import pandas as pd\n",
    "import re\n",
    "import json \n",
    "import pathlib as pl"
   ]
  },
  {
   "cell_type": "markdown",
   "metadata": {},
   "source": [
    "# Data Ingestion\n",
    "Data are downloaded from the course drive folder, link is not reported to avoid external access . The first step is to read the two csv files as pandas Dataframes"
   ]
  },
  {
   "cell_type": "code",
   "execution_count": 2,
   "metadata": {},
   "outputs": [],
   "source": [
    "credits = pd.read_csv(\"data/tmdb_5000_credits.csv\")\n",
    "movies = pd.read_csv(\"data/tmdb_5000_movies.csv\")"
   ]
  },
  {
   "cell_type": "code",
   "execution_count": 3,
   "metadata": {
    "scrolled": true
   },
   "outputs": [
    {
     "data": {
      "text/html": [
       "<div>\n",
       "<style>\n",
       "    .dataframe thead tr:only-child th {\n",
       "        text-align: right;\n",
       "    }\n",
       "\n",
       "    .dataframe thead th {\n",
       "        text-align: left;\n",
       "    }\n",
       "\n",
       "    .dataframe tbody tr th {\n",
       "        vertical-align: top;\n",
       "    }\n",
       "</style>\n",
       "<table border=\"1\" class=\"dataframe\">\n",
       "  <thead>\n",
       "    <tr style=\"text-align: right;\">\n",
       "      <th></th>\n",
       "      <th>movie_id</th>\n",
       "      <th>title</th>\n",
       "      <th>cast</th>\n",
       "      <th>crew</th>\n",
       "    </tr>\n",
       "  </thead>\n",
       "  <tbody>\n",
       "    <tr>\n",
       "      <th>0</th>\n",
       "      <td>19995</td>\n",
       "      <td>Avatar</td>\n",
       "      <td>[{\"cast_id\": 242, \"character\": \"Jake Sully\", \"...</td>\n",
       "      <td>[{\"credit_id\": \"52fe48009251416c750aca23\", \"de...</td>\n",
       "    </tr>\n",
       "    <tr>\n",
       "      <th>1</th>\n",
       "      <td>285</td>\n",
       "      <td>Pirates of the Caribbean: At World's End</td>\n",
       "      <td>[{\"cast_id\": 4, \"character\": \"Captain Jack Spa...</td>\n",
       "      <td>[{\"credit_id\": \"52fe4232c3a36847f800b579\", \"de...</td>\n",
       "    </tr>\n",
       "    <tr>\n",
       "      <th>2</th>\n",
       "      <td>206647</td>\n",
       "      <td>Spectre</td>\n",
       "      <td>[{\"cast_id\": 1, \"character\": \"James Bond\", \"cr...</td>\n",
       "      <td>[{\"credit_id\": \"54805967c3a36829b5002c41\", \"de...</td>\n",
       "    </tr>\n",
       "    <tr>\n",
       "      <th>3</th>\n",
       "      <td>49026</td>\n",
       "      <td>The Dark Knight Rises</td>\n",
       "      <td>[{\"cast_id\": 2, \"character\": \"Bruce Wayne / Ba...</td>\n",
       "      <td>[{\"credit_id\": \"52fe4781c3a36847f81398c3\", \"de...</td>\n",
       "    </tr>\n",
       "    <tr>\n",
       "      <th>4</th>\n",
       "      <td>49529</td>\n",
       "      <td>John Carter</td>\n",
       "      <td>[{\"cast_id\": 5, \"character\": \"John Carter\", \"c...</td>\n",
       "      <td>[{\"credit_id\": \"52fe479ac3a36847f813eaa3\", \"de...</td>\n",
       "    </tr>\n",
       "  </tbody>\n",
       "</table>\n",
       "</div>"
      ],
      "text/plain": [
       "   movie_id                                     title  \\\n",
       "0     19995                                    Avatar   \n",
       "1       285  Pirates of the Caribbean: At World's End   \n",
       "2    206647                                   Spectre   \n",
       "3     49026                     The Dark Knight Rises   \n",
       "4     49529                               John Carter   \n",
       "\n",
       "                                                cast  \\\n",
       "0  [{\"cast_id\": 242, \"character\": \"Jake Sully\", \"...   \n",
       "1  [{\"cast_id\": 4, \"character\": \"Captain Jack Spa...   \n",
       "2  [{\"cast_id\": 1, \"character\": \"James Bond\", \"cr...   \n",
       "3  [{\"cast_id\": 2, \"character\": \"Bruce Wayne / Ba...   \n",
       "4  [{\"cast_id\": 5, \"character\": \"John Carter\", \"c...   \n",
       "\n",
       "                                                crew  \n",
       "0  [{\"credit_id\": \"52fe48009251416c750aca23\", \"de...  \n",
       "1  [{\"credit_id\": \"52fe4232c3a36847f800b579\", \"de...  \n",
       "2  [{\"credit_id\": \"54805967c3a36829b5002c41\", \"de...  \n",
       "3  [{\"credit_id\": \"52fe4781c3a36847f81398c3\", \"de...  \n",
       "4  [{\"credit_id\": \"52fe479ac3a36847f813eaa3\", \"de...  "
      ]
     },
     "execution_count": 3,
     "metadata": {},
     "output_type": "execute_result"
    }
   ],
   "source": [
    "credits.head()"
   ]
  },
  {
   "cell_type": "code",
   "execution_count": 4,
   "metadata": {},
   "outputs": [
    {
     "data": {
      "text/plain": [
       "(4803, 4)"
      ]
     },
     "execution_count": 4,
     "metadata": {},
     "output_type": "execute_result"
    }
   ],
   "source": [
    "credits.shape"
   ]
  },
  {
   "cell_type": "code",
   "execution_count": 5,
   "metadata": {},
   "outputs": [
    {
     "data": {
      "text/html": [
       "<div>\n",
       "<style>\n",
       "    .dataframe thead tr:only-child th {\n",
       "        text-align: right;\n",
       "    }\n",
       "\n",
       "    .dataframe thead th {\n",
       "        text-align: left;\n",
       "    }\n",
       "\n",
       "    .dataframe tbody tr th {\n",
       "        vertical-align: top;\n",
       "    }\n",
       "</style>\n",
       "<table border=\"1\" class=\"dataframe\">\n",
       "  <thead>\n",
       "    <tr style=\"text-align: right;\">\n",
       "      <th></th>\n",
       "      <th>budget</th>\n",
       "      <th>genres</th>\n",
       "      <th>homepage</th>\n",
       "      <th>id</th>\n",
       "      <th>keywords</th>\n",
       "      <th>original_language</th>\n",
       "      <th>original_title</th>\n",
       "      <th>overview</th>\n",
       "      <th>popularity</th>\n",
       "      <th>production_companies</th>\n",
       "      <th>production_countries</th>\n",
       "      <th>release_date</th>\n",
       "      <th>revenue</th>\n",
       "      <th>runtime</th>\n",
       "      <th>spoken_languages</th>\n",
       "      <th>status</th>\n",
       "      <th>tagline</th>\n",
       "      <th>title</th>\n",
       "      <th>vote_average</th>\n",
       "      <th>vote_count</th>\n",
       "    </tr>\n",
       "  </thead>\n",
       "  <tbody>\n",
       "    <tr>\n",
       "      <th>0</th>\n",
       "      <td>237000000</td>\n",
       "      <td>[{\"id\": 28, \"name\": \"Action\"}, {\"id\": 12, \"nam...</td>\n",
       "      <td>http://www.avatarmovie.com/</td>\n",
       "      <td>19995</td>\n",
       "      <td>[{\"id\": 1463, \"name\": \"culture clash\"}, {\"id\":...</td>\n",
       "      <td>en</td>\n",
       "      <td>Avatar</td>\n",
       "      <td>In the 22nd century, a paraplegic Marine is di...</td>\n",
       "      <td>150.437577</td>\n",
       "      <td>[{\"name\": \"Ingenious Film Partners\", \"id\": 289...</td>\n",
       "      <td>[{\"iso_3166_1\": \"US\", \"name\": \"United States o...</td>\n",
       "      <td>2009-12-10</td>\n",
       "      <td>2787965087</td>\n",
       "      <td>162.0</td>\n",
       "      <td>[{\"iso_639_1\": \"en\", \"name\": \"English\"}, {\"iso...</td>\n",
       "      <td>Released</td>\n",
       "      <td>Enter the World of Pandora.</td>\n",
       "      <td>Avatar</td>\n",
       "      <td>7.2</td>\n",
       "      <td>11800</td>\n",
       "    </tr>\n",
       "    <tr>\n",
       "      <th>1</th>\n",
       "      <td>300000000</td>\n",
       "      <td>[{\"id\": 12, \"name\": \"Adventure\"}, {\"id\": 14, \"...</td>\n",
       "      <td>http://disney.go.com/disneypictures/pirates/</td>\n",
       "      <td>285</td>\n",
       "      <td>[{\"id\": 270, \"name\": \"ocean\"}, {\"id\": 726, \"na...</td>\n",
       "      <td>en</td>\n",
       "      <td>Pirates of the Caribbean: At World's End</td>\n",
       "      <td>Captain Barbossa, long believed to be dead, ha...</td>\n",
       "      <td>139.082615</td>\n",
       "      <td>[{\"name\": \"Walt Disney Pictures\", \"id\": 2}, {\"...</td>\n",
       "      <td>[{\"iso_3166_1\": \"US\", \"name\": \"United States o...</td>\n",
       "      <td>2007-05-19</td>\n",
       "      <td>961000000</td>\n",
       "      <td>169.0</td>\n",
       "      <td>[{\"iso_639_1\": \"en\", \"name\": \"English\"}]</td>\n",
       "      <td>Released</td>\n",
       "      <td>At the end of the world, the adventure begins.</td>\n",
       "      <td>Pirates of the Caribbean: At World's End</td>\n",
       "      <td>6.9</td>\n",
       "      <td>4500</td>\n",
       "    </tr>\n",
       "    <tr>\n",
       "      <th>2</th>\n",
       "      <td>245000000</td>\n",
       "      <td>[{\"id\": 28, \"name\": \"Action\"}, {\"id\": 12, \"nam...</td>\n",
       "      <td>http://www.sonypictures.com/movies/spectre/</td>\n",
       "      <td>206647</td>\n",
       "      <td>[{\"id\": 470, \"name\": \"spy\"}, {\"id\": 818, \"name...</td>\n",
       "      <td>en</td>\n",
       "      <td>Spectre</td>\n",
       "      <td>A cryptic message from Bond’s past sends him o...</td>\n",
       "      <td>107.376788</td>\n",
       "      <td>[{\"name\": \"Columbia Pictures\", \"id\": 5}, {\"nam...</td>\n",
       "      <td>[{\"iso_3166_1\": \"GB\", \"name\": \"United Kingdom\"...</td>\n",
       "      <td>2015-10-26</td>\n",
       "      <td>880674609</td>\n",
       "      <td>148.0</td>\n",
       "      <td>[{\"iso_639_1\": \"fr\", \"name\": \"Fran\\u00e7ais\"},...</td>\n",
       "      <td>Released</td>\n",
       "      <td>A Plan No One Escapes</td>\n",
       "      <td>Spectre</td>\n",
       "      <td>6.3</td>\n",
       "      <td>4466</td>\n",
       "    </tr>\n",
       "    <tr>\n",
       "      <th>3</th>\n",
       "      <td>250000000</td>\n",
       "      <td>[{\"id\": 28, \"name\": \"Action\"}, {\"id\": 80, \"nam...</td>\n",
       "      <td>http://www.thedarkknightrises.com/</td>\n",
       "      <td>49026</td>\n",
       "      <td>[{\"id\": 849, \"name\": \"dc comics\"}, {\"id\": 853,...</td>\n",
       "      <td>en</td>\n",
       "      <td>The Dark Knight Rises</td>\n",
       "      <td>Following the death of District Attorney Harve...</td>\n",
       "      <td>112.312950</td>\n",
       "      <td>[{\"name\": \"Legendary Pictures\", \"id\": 923}, {\"...</td>\n",
       "      <td>[{\"iso_3166_1\": \"US\", \"name\": \"United States o...</td>\n",
       "      <td>2012-07-16</td>\n",
       "      <td>1084939099</td>\n",
       "      <td>165.0</td>\n",
       "      <td>[{\"iso_639_1\": \"en\", \"name\": \"English\"}]</td>\n",
       "      <td>Released</td>\n",
       "      <td>The Legend Ends</td>\n",
       "      <td>The Dark Knight Rises</td>\n",
       "      <td>7.6</td>\n",
       "      <td>9106</td>\n",
       "    </tr>\n",
       "    <tr>\n",
       "      <th>4</th>\n",
       "      <td>260000000</td>\n",
       "      <td>[{\"id\": 28, \"name\": \"Action\"}, {\"id\": 12, \"nam...</td>\n",
       "      <td>http://movies.disney.com/john-carter</td>\n",
       "      <td>49529</td>\n",
       "      <td>[{\"id\": 818, \"name\": \"based on novel\"}, {\"id\":...</td>\n",
       "      <td>en</td>\n",
       "      <td>John Carter</td>\n",
       "      <td>John Carter is a war-weary, former military ca...</td>\n",
       "      <td>43.926995</td>\n",
       "      <td>[{\"name\": \"Walt Disney Pictures\", \"id\": 2}]</td>\n",
       "      <td>[{\"iso_3166_1\": \"US\", \"name\": \"United States o...</td>\n",
       "      <td>2012-03-07</td>\n",
       "      <td>284139100</td>\n",
       "      <td>132.0</td>\n",
       "      <td>[{\"iso_639_1\": \"en\", \"name\": \"English\"}]</td>\n",
       "      <td>Released</td>\n",
       "      <td>Lost in our world, found in another.</td>\n",
       "      <td>John Carter</td>\n",
       "      <td>6.1</td>\n",
       "      <td>2124</td>\n",
       "    </tr>\n",
       "  </tbody>\n",
       "</table>\n",
       "</div>"
      ],
      "text/plain": [
       "      budget                                             genres  \\\n",
       "0  237000000  [{\"id\": 28, \"name\": \"Action\"}, {\"id\": 12, \"nam...   \n",
       "1  300000000  [{\"id\": 12, \"name\": \"Adventure\"}, {\"id\": 14, \"...   \n",
       "2  245000000  [{\"id\": 28, \"name\": \"Action\"}, {\"id\": 12, \"nam...   \n",
       "3  250000000  [{\"id\": 28, \"name\": \"Action\"}, {\"id\": 80, \"nam...   \n",
       "4  260000000  [{\"id\": 28, \"name\": \"Action\"}, {\"id\": 12, \"nam...   \n",
       "\n",
       "                                       homepage      id  \\\n",
       "0                   http://www.avatarmovie.com/   19995   \n",
       "1  http://disney.go.com/disneypictures/pirates/     285   \n",
       "2   http://www.sonypictures.com/movies/spectre/  206647   \n",
       "3            http://www.thedarkknightrises.com/   49026   \n",
       "4          http://movies.disney.com/john-carter   49529   \n",
       "\n",
       "                                            keywords original_language  \\\n",
       "0  [{\"id\": 1463, \"name\": \"culture clash\"}, {\"id\":...                en   \n",
       "1  [{\"id\": 270, \"name\": \"ocean\"}, {\"id\": 726, \"na...                en   \n",
       "2  [{\"id\": 470, \"name\": \"spy\"}, {\"id\": 818, \"name...                en   \n",
       "3  [{\"id\": 849, \"name\": \"dc comics\"}, {\"id\": 853,...                en   \n",
       "4  [{\"id\": 818, \"name\": \"based on novel\"}, {\"id\":...                en   \n",
       "\n",
       "                             original_title  \\\n",
       "0                                    Avatar   \n",
       "1  Pirates of the Caribbean: At World's End   \n",
       "2                                   Spectre   \n",
       "3                     The Dark Knight Rises   \n",
       "4                               John Carter   \n",
       "\n",
       "                                            overview  popularity  \\\n",
       "0  In the 22nd century, a paraplegic Marine is di...  150.437577   \n",
       "1  Captain Barbossa, long believed to be dead, ha...  139.082615   \n",
       "2  A cryptic message from Bond’s past sends him o...  107.376788   \n",
       "3  Following the death of District Attorney Harve...  112.312950   \n",
       "4  John Carter is a war-weary, former military ca...   43.926995   \n",
       "\n",
       "                                production_companies  \\\n",
       "0  [{\"name\": \"Ingenious Film Partners\", \"id\": 289...   \n",
       "1  [{\"name\": \"Walt Disney Pictures\", \"id\": 2}, {\"...   \n",
       "2  [{\"name\": \"Columbia Pictures\", \"id\": 5}, {\"nam...   \n",
       "3  [{\"name\": \"Legendary Pictures\", \"id\": 923}, {\"...   \n",
       "4        [{\"name\": \"Walt Disney Pictures\", \"id\": 2}]   \n",
       "\n",
       "                                production_countries release_date     revenue  \\\n",
       "0  [{\"iso_3166_1\": \"US\", \"name\": \"United States o...   2009-12-10  2787965087   \n",
       "1  [{\"iso_3166_1\": \"US\", \"name\": \"United States o...   2007-05-19   961000000   \n",
       "2  [{\"iso_3166_1\": \"GB\", \"name\": \"United Kingdom\"...   2015-10-26   880674609   \n",
       "3  [{\"iso_3166_1\": \"US\", \"name\": \"United States o...   2012-07-16  1084939099   \n",
       "4  [{\"iso_3166_1\": \"US\", \"name\": \"United States o...   2012-03-07   284139100   \n",
       "\n",
       "   runtime                                   spoken_languages    status  \\\n",
       "0    162.0  [{\"iso_639_1\": \"en\", \"name\": \"English\"}, {\"iso...  Released   \n",
       "1    169.0           [{\"iso_639_1\": \"en\", \"name\": \"English\"}]  Released   \n",
       "2    148.0  [{\"iso_639_1\": \"fr\", \"name\": \"Fran\\u00e7ais\"},...  Released   \n",
       "3    165.0           [{\"iso_639_1\": \"en\", \"name\": \"English\"}]  Released   \n",
       "4    132.0           [{\"iso_639_1\": \"en\", \"name\": \"English\"}]  Released   \n",
       "\n",
       "                                          tagline  \\\n",
       "0                     Enter the World of Pandora.   \n",
       "1  At the end of the world, the adventure begins.   \n",
       "2                           A Plan No One Escapes   \n",
       "3                                 The Legend Ends   \n",
       "4            Lost in our world, found in another.   \n",
       "\n",
       "                                      title  vote_average  vote_count  \n",
       "0                                    Avatar           7.2       11800  \n",
       "1  Pirates of the Caribbean: At World's End           6.9        4500  \n",
       "2                                   Spectre           6.3        4466  \n",
       "3                     The Dark Knight Rises           7.6        9106  \n",
       "4                               John Carter           6.1        2124  "
      ]
     },
     "execution_count": 5,
     "metadata": {},
     "output_type": "execute_result"
    }
   ],
   "source": [
    "movies.head()"
   ]
  },
  {
   "cell_type": "code",
   "execution_count": 6,
   "metadata": {},
   "outputs": [
    {
     "data": {
      "text/plain": [
       "(4803, 20)"
      ]
     },
     "execution_count": 6,
     "metadata": {},
     "output_type": "execute_result"
    }
   ],
   "source": [
    "movies.shape"
   ]
  },
  {
   "cell_type": "markdown",
   "metadata": {},
   "source": [
    "# Data Preprocessing\n",
    "Let's proceed with some preprocessing, like checking for missing values, better exploring the schema of the data and looking for identifiers."
   ]
  },
  {
   "cell_type": "code",
   "execution_count": 7,
   "metadata": {},
   "outputs": [
    {
     "name": "stdout",
     "output_type": "stream",
     "text": [
      "The credits table has 0 rows with at least one missing value.\n",
      "The movies table has 3310 rows with at least one missing value.\n"
     ]
    }
   ],
   "source": [
    "# MISSING VALUES\n",
    "credits_missing = credits.shape[0] - credits.dropna(how='any').shape[0]\n",
    "movies_missing = movies.shape[0] - movies.dropna(how='any').shape[0]\n",
    "print(\"The credits table has\",credits_missing,\"rows with at least one missing value.\")\n",
    "print(\"The movies table has\",movies_missing,\"rows with at least one missing value.\")"
   ]
  },
  {
   "cell_type": "code",
   "execution_count": 8,
   "metadata": {},
   "outputs": [
    {
     "name": "stdout",
     "output_type": "stream",
     "text": [
      "There are 4803 unique movie id values in the credits table\n",
      "There are 4803 unique movie id values in the movies table\n"
     ]
    }
   ],
   "source": [
    "# CHECK THAT MOVIE_ID CAN BE USED AS PRIMARY KEY\n",
    "credits_movieid = len(credits['movie_id'].unique())\n",
    "movies_movieid = len(movies['id'].unique())\n",
    "print(\"There are\",credits_movieid,\"unique movie id values in the credits table\")\n",
    "print(\"There are\",movies_movieid,\"unique movie id values in the movies table\")"
   ]
  },
  {
   "cell_type": "code",
   "execution_count": 9,
   "metadata": {},
   "outputs": [
    {
     "data": {
      "text/plain": [
       "Index(['Batman', 'Out of the Blue', 'The Host'], dtype='object', name='title')"
      ]
     },
     "execution_count": 9,
     "metadata": {},
     "output_type": "execute_result"
    }
   ],
   "source": [
    "# SOME TITLES CORRESPOND TO MORE THAN ONE MOVIE_ID\n",
    "a = credits.groupby('title')['movie_id'].size()\n",
    "a.index[a > 1]"
   ]
  },
  {
   "cell_type": "code",
   "execution_count": 10,
   "metadata": {},
   "outputs": [
    {
     "data": {
      "text/html": [
       "<div>\n",
       "<style>\n",
       "    .dataframe thead tr:only-child th {\n",
       "        text-align: right;\n",
       "    }\n",
       "\n",
       "    .dataframe thead th {\n",
       "        text-align: left;\n",
       "    }\n",
       "\n",
       "    .dataframe tbody tr th {\n",
       "        vertical-align: top;\n",
       "    }\n",
       "</style>\n",
       "<table border=\"1\" class=\"dataframe\">\n",
       "  <thead>\n",
       "    <tr style=\"text-align: right;\">\n",
       "      <th></th>\n",
       "      <th>movie_id</th>\n",
       "      <th>title</th>\n",
       "      <th>cast</th>\n",
       "      <th>crew</th>\n",
       "    </tr>\n",
       "  </thead>\n",
       "  <tbody>\n",
       "    <tr>\n",
       "      <th>1359</th>\n",
       "      <td>268</td>\n",
       "      <td>Batman</td>\n",
       "      <td>[{\"cast_id\": 5, \"character\": \"Jack Napier/The ...</td>\n",
       "      <td>[{\"credit_id\": \"52fe422fc3a36847f800aa4b\", \"de...</td>\n",
       "    </tr>\n",
       "    <tr>\n",
       "      <th>4267</th>\n",
       "      <td>2661</td>\n",
       "      <td>Batman</td>\n",
       "      <td>[{\"cast_id\": 17, \"character\": \"Batman / Bruce ...</td>\n",
       "      <td>[{\"credit_id\": \"52fe4363c3a36847f80509a7\", \"de...</td>\n",
       "    </tr>\n",
       "  </tbody>\n",
       "</table>\n",
       "</div>"
      ],
      "text/plain": [
       "      movie_id   title                                               cast  \\\n",
       "1359       268  Batman  [{\"cast_id\": 5, \"character\": \"Jack Napier/The ...   \n",
       "4267      2661  Batman  [{\"cast_id\": 17, \"character\": \"Batman / Bruce ...   \n",
       "\n",
       "                                                   crew  \n",
       "1359  [{\"credit_id\": \"52fe422fc3a36847f800aa4b\", \"de...  \n",
       "4267  [{\"credit_id\": \"52fe4363c3a36847f80509a7\", \"de...  "
      ]
     },
     "execution_count": 10,
     "metadata": {},
     "output_type": "execute_result"
    }
   ],
   "source": [
    "credits.loc[credits['title']== 'Batman']"
   ]
  },
  {
   "cell_type": "code",
   "execution_count": 11,
   "metadata": {},
   "outputs": [
    {
     "data": {
      "text/html": [
       "<div>\n",
       "<style>\n",
       "    .dataframe thead tr:only-child th {\n",
       "        text-align: right;\n",
       "    }\n",
       "\n",
       "    .dataframe thead th {\n",
       "        text-align: left;\n",
       "    }\n",
       "\n",
       "    .dataframe tbody tr th {\n",
       "        vertical-align: top;\n",
       "    }\n",
       "</style>\n",
       "<table border=\"1\" class=\"dataframe\">\n",
       "  <thead>\n",
       "    <tr style=\"text-align: right;\">\n",
       "      <th></th>\n",
       "      <th>movie_id</th>\n",
       "      <th>title</th>\n",
       "      <th>cast</th>\n",
       "      <th>crew</th>\n",
       "    </tr>\n",
       "  </thead>\n",
       "  <tbody>\n",
       "    <tr>\n",
       "      <th>3647</th>\n",
       "      <td>39269</td>\n",
       "      <td>Out of the Blue</td>\n",
       "      <td>[{\"cast_id\": 2, \"character\": \"Don\", \"credit_id...</td>\n",
       "      <td>[{\"credit_id\": \"52fe47099251416c9106826f\", \"de...</td>\n",
       "    </tr>\n",
       "    <tr>\n",
       "      <th>3693</th>\n",
       "      <td>10844</td>\n",
       "      <td>Out of the Blue</td>\n",
       "      <td>[{\"cast_id\": 12, \"character\": \"Nick Harvey\", \"...</td>\n",
       "      <td>[{\"credit_id\": \"52fe43c19251416c7501cceb\", \"de...</td>\n",
       "    </tr>\n",
       "  </tbody>\n",
       "</table>\n",
       "</div>"
      ],
      "text/plain": [
       "      movie_id            title  \\\n",
       "3647     39269  Out of the Blue   \n",
       "3693     10844  Out of the Blue   \n",
       "\n",
       "                                                   cast  \\\n",
       "3647  [{\"cast_id\": 2, \"character\": \"Don\", \"credit_id...   \n",
       "3693  [{\"cast_id\": 12, \"character\": \"Nick Harvey\", \"...   \n",
       "\n",
       "                                                   crew  \n",
       "3647  [{\"credit_id\": \"52fe47099251416c9106826f\", \"de...  \n",
       "3693  [{\"credit_id\": \"52fe43c19251416c7501cceb\", \"de...  "
      ]
     },
     "execution_count": 11,
     "metadata": {},
     "output_type": "execute_result"
    }
   ],
   "source": [
    "credits.loc[credits['title']=='Out of the Blue']"
   ]
  },
  {
   "cell_type": "code",
   "execution_count": 12,
   "metadata": {},
   "outputs": [
    {
     "data": {
      "text/html": [
       "<div>\n",
       "<style>\n",
       "    .dataframe thead tr:only-child th {\n",
       "        text-align: right;\n",
       "    }\n",
       "\n",
       "    .dataframe thead th {\n",
       "        text-align: left;\n",
       "    }\n",
       "\n",
       "    .dataframe tbody tr th {\n",
       "        vertical-align: top;\n",
       "    }\n",
       "</style>\n",
       "<table border=\"1\" class=\"dataframe\">\n",
       "  <thead>\n",
       "    <tr style=\"text-align: right;\">\n",
       "      <th></th>\n",
       "      <th>movie_id</th>\n",
       "      <th>title</th>\n",
       "      <th>cast</th>\n",
       "      <th>crew</th>\n",
       "    </tr>\n",
       "  </thead>\n",
       "  <tbody>\n",
       "    <tr>\n",
       "      <th>972</th>\n",
       "      <td>72710</td>\n",
       "      <td>The Host</td>\n",
       "      <td>[{\"cast_id\": 52, \"character\": \"Melanie Stryder...</td>\n",
       "      <td>[{\"credit_id\": \"52fe487bc3a368484e0fa919\", \"de...</td>\n",
       "    </tr>\n",
       "    <tr>\n",
       "      <th>2877</th>\n",
       "      <td>1255</td>\n",
       "      <td>The Host</td>\n",
       "      <td>[{\"cast_id\": 3, \"character\": \"Park Gang-du\", \"...</td>\n",
       "      <td>[{\"credit_id\": \"52fe42eac3a36847f802ca6b\", \"de...</td>\n",
       "    </tr>\n",
       "  </tbody>\n",
       "</table>\n",
       "</div>"
      ],
      "text/plain": [
       "      movie_id     title                                               cast  \\\n",
       "972      72710  The Host  [{\"cast_id\": 52, \"character\": \"Melanie Stryder...   \n",
       "2877      1255  The Host  [{\"cast_id\": 3, \"character\": \"Park Gang-du\", \"...   \n",
       "\n",
       "                                                   crew  \n",
       "972   [{\"credit_id\": \"52fe487bc3a368484e0fa919\", \"de...  \n",
       "2877  [{\"credit_id\": \"52fe42eac3a36847f802ca6b\", \"de...  "
      ]
     },
     "execution_count": 12,
     "metadata": {},
     "output_type": "execute_result"
    }
   ],
   "source": [
    "credits.loc[credits['title']=='The Host']"
   ]
  },
  {
   "cell_type": "markdown",
   "metadata": {},
   "source": [
    "# First request\n",
    "## For each movie, computer the number of cast members.\n",
    "We first select from the credits table only the necessary attributes."
   ]
  },
  {
   "cell_type": "code",
   "execution_count": 15,
   "metadata": {},
   "outputs": [],
   "source": [
    "first = credits[['title','cast']]"
   ]
  },
  {
   "cell_type": "markdown",
   "metadata": {},
   "source": [
    "Cells in the *cast* column contain strings which represent a list of many dictionaries. Each dictionary contains information specific to a cast member, so that each list can be interpreted as a json document describing the cast of the movie. Finally, since we need to compute the number of cast members, we compute the length of the list."
   ]
  },
  {
   "cell_type": "code",
   "execution_count": 15,
   "metadata": {},
   "outputs": [],
   "source": [
    "#THE assign METHOD CREATES A COPY OF THE DATAFRAME IN ORDER TO AVOID SettingWithCopyWarning\n",
    "first = first.assign(n_cast_members = first['cast'].apply(json.loads).apply(lambda x: len(x)) )"
   ]
  },
  {
   "cell_type": "markdown",
   "metadata": {},
   "source": [
    "# Second request\n",
    "## How many movies do not have a homepage?\n",
    "We select the homepage attribute of the **movies** table. We keep track of the total number of movies, which we already know is $4803$ with the variable `homepages_total`"
   ]
  },
  {
   "cell_type": "code",
   "execution_count": 16,
   "metadata": {},
   "outputs": [],
   "source": [
    "second = movies['homepage']\n",
    "homepages_total = second.shape[0]"
   ]
  },
  {
   "cell_type": "markdown",
   "metadata": {},
   "source": [
    "Now we can drop all the null values in the homepage column, we then store the number of movies with no homepage reported in the variable `null_homepages`."
   ]
  },
  {
   "cell_type": "code",
   "execution_count": 17,
   "metadata": {},
   "outputs": [],
   "source": [
    "#CHECK FOR NULL VALUES\n",
    "second = second.dropna(axis=0)\n",
    "null_homepages = homepages_total - second.shape[0]"
   ]
  },
  {
   "cell_type": "markdown",
   "metadata": {},
   "source": [
    "It could be that instead of a `NaN` value, movies without a homepage are indicated through some meaningful string, such as **none**,**missing** or **unavailable**. To cover these cases a regex is used and if one of the keywords is found, its index is added to `no_homepage_list`. "
   ]
  },
  {
   "cell_type": "code",
   "execution_count": 18,
   "metadata": {},
   "outputs": [
    {
     "name": "stdout",
     "output_type": "stream",
     "text": [
      "[]\n"
     ]
    }
   ],
   "source": [
    "equivalent_null_list = ['none','missing','unavailable']\n",
    "no_homepage_list =[]\n",
    "for website in second:\n",
    "    if re.compile('|'.join(equivalent_null_list),re.IGNORECASE).search(website): #re.IGNORECASE is used to ignore case\n",
    "        no_homepage_list.append(second[second == website].index[0])\n",
    "print(no_homepage_list)"
   ]
  },
  {
   "cell_type": "markdown",
   "metadata": {},
   "source": [
    "Since our regex has provided no matches, we believe that our initial computation is enough to solve the problem."
   ]
  },
  {
   "cell_type": "code",
   "execution_count": 19,
   "metadata": {},
   "outputs": [
    {
     "name": "stdout",
     "output_type": "stream",
     "text": [
      "Number of movies without an homepage:  3091\n"
     ]
    }
   ],
   "source": [
    "print(\"Number of movies without an homepage: \",null_homepages)"
   ]
  },
  {
   "cell_type": "markdown",
   "metadata": {},
   "source": [
    "# Third request\n",
    "## For each year, how many movies do not have a homepage?\n",
    "We begin by removing those movies that are missing a release date"
   ]
  },
  {
   "cell_type": "code",
   "execution_count": 42,
   "metadata": {},
   "outputs": [
    {
     "data": {
      "text/plain": [
       "(4802, 20)"
      ]
     },
     "execution_count": 42,
     "metadata": {},
     "output_type": "execute_result"
    }
   ],
   "source": [
    "#REMOVE MOVIES WITH NO RELEASE DATE, copy TO AVOID SettingWithCopyWarning\n",
    "third = movies.dropna(subset=['release_date']).copy()\n",
    "third.shape"
   ]
  },
  {
   "cell_type": "markdown",
   "metadata": {},
   "source": [
    "The *release_date* attribute can be read as `DatetimeIndex` to extract only the year of release. "
   ]
  },
  {
   "cell_type": "code",
   "execution_count": 43,
   "metadata": {},
   "outputs": [],
   "source": [
    "third['release_year'] = pd.DatetimeIndex(third['release_date']).year\n",
    "#VISUALIZE INTEGER YEAR VALUES\n",
    "third['release_year'] = third['release_year'].apply(lambda x: int(x))"
   ]
  },
  {
   "cell_type": "markdown",
   "metadata": {},
   "source": [
    "We now only the *release_year* and *homepage* attributes. The Dataframe is then grouped by the year and through the `isnull()` method a list of `True` or `False` values is computed, if the homepage is present or not, respectively. Finally we perform a `sum()` over the elements of the list, in fact `True = 1` and `False = 0`, to get the total number of movies without an homepage for each year."
   ]
  },
  {
   "cell_type": "code",
   "execution_count": 44,
   "metadata": {
    "scrolled": true
   },
   "outputs": [
    {
     "data": {
      "text/plain": [
       "release_year\n",
       "1916    1\n",
       "1925    1\n",
       "1927    1\n",
       "1929    2\n",
       "1930    1\n",
       "Name: homepage, dtype: int64"
      ]
     },
     "execution_count": 44,
     "metadata": {},
     "output_type": "execute_result"
    }
   ],
   "source": [
    "#COMPUTE NUMBER OF MOVIES WITH NO HOMEPAGE FOR EACH YEAR\n",
    "no_homepage_movies = third[['release_year','homepage']].groupby('release_year')['homepage'].apply(lambda x: x.isnull().sum())\n",
    "no_homepage_movies.head()"
   ]
  },
  {
   "cell_type": "markdown",
   "metadata": {},
   "source": [
    "# Fourth request\n",
    "## Extract the domain of each homepage.\n",
    "The *homepage* attribute of the **movies** table is selected and all null values are dropped. The indexes are then reset to provide compatibility for future merging with a domain series."
   ]
  },
  {
   "cell_type": "code",
   "execution_count": 108,
   "metadata": {
    "scrolled": true
   },
   "outputs": [],
   "source": [
    "fourth = movies['homepage'].dropna()\n",
    "homepage_series = fourth.reset_index(drop = True)"
   ]
  },
  {
   "cell_type": "markdown",
   "metadata": {},
   "source": [
    "We make use of regex to extract the domain of the homepage. A first step is to verify that each value of the homepage attribute contains only one URL."
   ]
  },
  {
   "cell_type": "code",
   "execution_count": 109,
   "metadata": {},
   "outputs": [
    {
     "name": "stdout",
     "output_type": "stream",
     "text": [
      "['http://www.cargoderfilm.ch', 'http://cargothemovie.com'] 1403\n"
     ]
    }
   ],
   "source": [
    "multiple_homepages = homepage_series.apply(lambda x: re.split('; |, | ',x))\n",
    "index = np.arange(len(multiple_homepages))\n",
    "for i in index:\n",
    "    if len(multiple_homepages[i]) > 1:\n",
    "        print(multiple_homepages[i], i)"
   ]
  },
  {
   "cell_type": "markdown",
   "metadata": {},
   "source": [
    "So there actually is one entry with two homepages. We then check that every string starts with *http* so that we are sure they are valid urls. If this is the case, we can explore each homepage to find its domain. "
   ]
  },
  {
   "cell_type": "code",
   "execution_count": 110,
   "metadata": {},
   "outputs": [],
   "source": [
    "http = 0\n",
    "domain_list = []\n",
    "i=0\n",
    "#CHECK IF EVERY URL STARTS WITH AT LEAST http, SO THAT WE ARE SURE WE CAN SEARCH FOR DOMAINS INSIDE SLASHES, e.g. http://www.domainexample.example/otherstuff\n",
    "for x in homepage_series:\n",
    "    if re.search('^http',x):\n",
    "        http = http + 1\n",
    "if http == homepage_series.shape[0]:\n",
    "    for x in fourth:\n",
    "        #string begins with http(s could be there or not) then it goes ://\n",
    "        #then we have the domain, it can be a string of any length > 1, but can't include a ] character\n",
    "        #the URL can go on with a / or could end there.\n",
    "        m = re.search('(^https?:\\/\\/)(?P<domain>[^\\[]*?)(\\/|$)',x)\n",
    "        domain_list.append(m.group('domain'))\n",
    "else:\n",
    "    print(\"At least one URL begins without http / https. Dig deeper.\")"
   ]
  },
  {
   "cell_type": "markdown",
   "metadata": {},
   "source": [
    "The list of domains created is now transformed into a `pandas.Series` to be merged with the initial homepage series."
   ]
  },
  {
   "cell_type": "code",
   "execution_count": 111,
   "metadata": {
    "scrolled": true
   },
   "outputs": [],
   "source": [
    "#TRANSFORM THE DOMAIN LIST INTO A SERIES TO BE MERGED WITH THE FULL HOMEPAGE URLs\n",
    "domain_series = pd.Series(domain_list,name='domain')\n"
   ]
  },
  {
   "cell_type": "code",
   "execution_count": 112,
   "metadata": {
    "scrolled": true
   },
   "outputs": [
    {
     "data": {
      "text/html": [
       "<div>\n",
       "<style>\n",
       "    .dataframe thead tr:only-child th {\n",
       "        text-align: right;\n",
       "    }\n",
       "\n",
       "    .dataframe thead th {\n",
       "        text-align: left;\n",
       "    }\n",
       "\n",
       "    .dataframe tbody tr th {\n",
       "        vertical-align: top;\n",
       "    }\n",
       "</style>\n",
       "<table border=\"1\" class=\"dataframe\">\n",
       "  <thead>\n",
       "    <tr style=\"text-align: right;\">\n",
       "      <th></th>\n",
       "      <th>homepage</th>\n",
       "      <th>domain</th>\n",
       "    </tr>\n",
       "  </thead>\n",
       "  <tbody>\n",
       "    <tr>\n",
       "      <th>0</th>\n",
       "      <td>http://www.avatarmovie.com/</td>\n",
       "      <td>www.avatarmovie.com</td>\n",
       "    </tr>\n",
       "    <tr>\n",
       "      <th>1</th>\n",
       "      <td>http://disney.go.com/disneypictures/pirates/</td>\n",
       "      <td>disney.go.com</td>\n",
       "    </tr>\n",
       "    <tr>\n",
       "      <th>2</th>\n",
       "      <td>http://www.sonypictures.com/movies/spectre/</td>\n",
       "      <td>www.sonypictures.com</td>\n",
       "    </tr>\n",
       "    <tr>\n",
       "      <th>3</th>\n",
       "      <td>http://www.thedarkknightrises.com/</td>\n",
       "      <td>www.thedarkknightrises.com</td>\n",
       "    </tr>\n",
       "    <tr>\n",
       "      <th>4</th>\n",
       "      <td>http://movies.disney.com/john-carter</td>\n",
       "      <td>movies.disney.com</td>\n",
       "    </tr>\n",
       "  </tbody>\n",
       "</table>\n",
       "</div>"
      ],
      "text/plain": [
       "                                       homepage                      domain\n",
       "0                   http://www.avatarmovie.com/         www.avatarmovie.com\n",
       "1  http://disney.go.com/disneypictures/pirates/               disney.go.com\n",
       "2   http://www.sonypictures.com/movies/spectre/        www.sonypictures.com\n",
       "3            http://www.thedarkknightrises.com/  www.thedarkknightrises.com\n",
       "4          http://movies.disney.com/john-carter           movies.disney.com"
      ]
     },
     "execution_count": 112,
     "metadata": {},
     "output_type": "execute_result"
    }
   ],
   "source": [
    "#MERGE HOMEPAGES WITH RESPECTIVE DOMAIN\n",
    "domain_df = pd.concat([homepage_series,domain_series],axis=1)\n",
    "domain_df.head()"
   ]
  },
  {
   "cell_type": "markdown",
   "metadata": {},
   "source": [
    "# Fifth request\n",
    "## Extract a set of normalized tables. That is, each entry of a normalized table must contain exactly one value (not a list or a dictionary).\n",
    "We first have to find a common feature for all non-normalized attributes. We discover that attributes such as *cast*, *crew* or *spoken_languages*, all formatted as json documents, are of type `str`."
   ]
  },
  {
   "cell_type": "code",
   "execution_count": 19,
   "metadata": {},
   "outputs": [
    {
     "name": "stdout",
     "output_type": "stream",
     "text": [
      "movie_id <class 'numpy.int64'>\n",
      "title <class 'str'>\n",
      "cast <class 'str'>\n",
      "crew <class 'str'>\n"
     ]
    }
   ],
   "source": [
    "fifth_credits = credits.copy()\n",
    "for column in fifth_credits.columns:\n",
    "    print(column, type(fifth_credits[column][0]))"
   ]
  },
  {
   "cell_type": "code",
   "execution_count": 20,
   "metadata": {
    "scrolled": true
   },
   "outputs": [
    {
     "name": "stdout",
     "output_type": "stream",
     "text": [
      "budget <class 'numpy.int64'>\n",
      "genres <class 'str'>\n",
      "homepage <class 'str'>\n",
      "id <class 'numpy.int64'>\n",
      "keywords <class 'str'>\n",
      "original_language <class 'str'>\n",
      "original_title <class 'str'>\n",
      "overview <class 'str'>\n",
      "popularity <class 'numpy.float64'>\n",
      "production_companies <class 'str'>\n",
      "production_countries <class 'str'>\n",
      "release_date <class 'str'>\n",
      "revenue <class 'numpy.int64'>\n",
      "runtime <class 'numpy.float64'>\n",
      "spoken_languages <class 'str'>\n",
      "status <class 'str'>\n",
      "tagline <class 'str'>\n",
      "title <class 'str'>\n",
      "vote_average <class 'numpy.float64'>\n",
      "vote_count <class 'numpy.int64'>\n"
     ]
    }
   ],
   "source": [
    "fifth_movies = movies.copy()\n",
    "for column in fifth_movies.columns:\n",
    "    print(column, type(fifth_movies[column][0]))"
   ]
  },
  {
   "cell_type": "code",
   "execution_count": 21,
   "metadata": {
    "scrolled": true
   },
   "outputs": [
    {
     "name": "stdout",
     "output_type": "stream",
     "text": [
      "Column title is not formatted as a json document\n",
      "Succesfully written normalized table to  FIFTH_POINT/CREDITS/cast.csv\n",
      "Succesfully written normalized table to  FIFTH_POINT/CREDITS/crew.csv\n"
     ]
    }
   ],
   "source": [
    "for column in fifth_credits.columns:\n",
    "    col_value = fifth_credits[column][0]\n",
    "    if isinstance(col_value, str):\n",
    "            try:\n",
    "                column_values = fifth_credits[column].apply(json.loads)\n",
    "                column_final = pd.DataFrame()\n",
    "                column_index = np.arange(4803)\n",
    "                for index in column_index:\n",
    "                    value_df = pd.DataFrame(column_values[index])\n",
    "                    value_df['movie_id'] = credits['movie_id'][index]\n",
    "                    column_final = pd.concat([column_final,value_df])\n",
    "                column_final = column_final.reset_index(drop=True)\n",
    "                pl.Path('FIFTH_POINT/CREDITS').mkdir(parents=False, exist_ok=True)\n",
    "                path = \"FIFTH_POINT/CREDITS/{0}.csv\".format(column)\n",
    "                column_final.to_csv(path_or_buf = path)\n",
    "                print(\"Succesfully written normalized table to \", path)\n",
    "            except:\n",
    "                print(\"Column\",column,\"is not formatted as a json document\")"
   ]
  },
  {
   "cell_type": "code",
   "execution_count": 22,
   "metadata": {
    "scrolled": true
   },
   "outputs": [
    {
     "name": "stdout",
     "output_type": "stream",
     "text": [
      "Succesfully written normalized table to  FIFTH_POINT/MOVIES/genres.csv\n",
      "Column homepage is not formatted as a json document\n",
      "Succesfully written normalized table to  FIFTH_POINT/MOVIES/keywords.csv\n",
      "Column original_language is not formatted as a json document\n",
      "Column original_title is not formatted as a json document\n",
      "Column overview is not formatted as a json document\n",
      "Succesfully written normalized table to  FIFTH_POINT/MOVIES/production_companies.csv\n",
      "Succesfully written normalized table to  FIFTH_POINT/MOVIES/production_countries.csv\n",
      "Column release_date is not formatted as a json document\n",
      "Succesfully written normalized table to  FIFTH_POINT/MOVIES/spoken_languages.csv\n",
      "Column status is not formatted as a json document\n",
      "Column tagline is not formatted as a json document\n",
      "Column title is not formatted as a json document\n"
     ]
    }
   ],
   "source": [
    "for column in fifth_movies.columns:\n",
    "    col_value = fifth_movies[column][0]\n",
    "    if isinstance(col_value, str):\n",
    "            try:\n",
    "                column_values = fifth_movies[column].apply(json.loads) \n",
    "                column_final = pd.DataFrame()\n",
    "                column_index = np.arange(4803)\n",
    "                for index in column_index:\n",
    "                    value_df = pd.DataFrame(column_values[index])\n",
    "                    value_df['movie_id'] = movies['id'][index]\n",
    "                    column_final = pd.concat([column_final,value_df])\n",
    "                column_final = column_final.reset_index(drop=True)\n",
    "                pl.Path('FIFTH_POINT/MOVIES').mkdir(parents=False, exist_ok=True)\n",
    "                path = \"FIFTH_POINT/MOVIES/{0}.csv\".format(column)\n",
    "                column_final.to_csv(path_or_buf = path)\n",
    "                print(\"Succesfully written normalized table to \", path)\n",
    "            except:\n",
    "                print(\"Column\",column,\"is not formatted as a json document\")"
   ]
  },
  {
   "cell_type": "markdown",
   "metadata": {},
   "source": [
    "The attribute `release_date` is considered to be normalized, since each date corresponds to a single event. If anyway we were interested in retrieving only the year, month or day of release we could easily do so through the following code."
   ]
  },
  {
   "cell_type": "code",
   "execution_count": 90,
   "metadata": {},
   "outputs": [],
   "source": [
    "date = pd.DataFrame(movies['release_date'].copy())\n",
    "date['year'] = pd.DatetimeIndex(date['release_date']).year\n",
    "date['month'] = pd.DatetimeIndex(date['release_date']).month\n",
    "date['day'] = pd.DatetimeIndex(date['release_date']).day"
   ]
  },
  {
   "cell_type": "markdown",
   "metadata": {},
   "source": [
    "# Sixth request\n",
    "## For each movie, compute the gross margin (difference between revenue and budget)\n",
    "In this case it is sufficient to select the *revenue* and *budget* attributes and to create a third attribute named *margin* to store the differences between values of the first two attributes. "
   ]
  },
  {
   "cell_type": "code",
   "execution_count": 37,
   "metadata": {
    "scrolled": true
   },
   "outputs": [
    {
     "data": {
      "text/html": [
       "<div>\n",
       "<style>\n",
       "    .dataframe thead tr:only-child th {\n",
       "        text-align: right;\n",
       "    }\n",
       "\n",
       "    .dataframe thead th {\n",
       "        text-align: left;\n",
       "    }\n",
       "\n",
       "    .dataframe tbody tr th {\n",
       "        vertical-align: top;\n",
       "    }\n",
       "</style>\n",
       "<table border=\"1\" class=\"dataframe\">\n",
       "  <thead>\n",
       "    <tr style=\"text-align: right;\">\n",
       "      <th></th>\n",
       "      <th>id</th>\n",
       "      <th>title</th>\n",
       "      <th>revenue</th>\n",
       "      <th>budget</th>\n",
       "      <th>margin</th>\n",
       "    </tr>\n",
       "  </thead>\n",
       "  <tbody>\n",
       "    <tr>\n",
       "      <th>0</th>\n",
       "      <td>19995</td>\n",
       "      <td>Avatar</td>\n",
       "      <td>2787965087</td>\n",
       "      <td>237000000</td>\n",
       "      <td>2550965087</td>\n",
       "    </tr>\n",
       "    <tr>\n",
       "      <th>1</th>\n",
       "      <td>285</td>\n",
       "      <td>Pirates of the Caribbean: At World's End</td>\n",
       "      <td>961000000</td>\n",
       "      <td>300000000</td>\n",
       "      <td>661000000</td>\n",
       "    </tr>\n",
       "    <tr>\n",
       "      <th>2</th>\n",
       "      <td>206647</td>\n",
       "      <td>Spectre</td>\n",
       "      <td>880674609</td>\n",
       "      <td>245000000</td>\n",
       "      <td>635674609</td>\n",
       "    </tr>\n",
       "    <tr>\n",
       "      <th>3</th>\n",
       "      <td>49026</td>\n",
       "      <td>The Dark Knight Rises</td>\n",
       "      <td>1084939099</td>\n",
       "      <td>250000000</td>\n",
       "      <td>834939099</td>\n",
       "    </tr>\n",
       "    <tr>\n",
       "      <th>4</th>\n",
       "      <td>49529</td>\n",
       "      <td>John Carter</td>\n",
       "      <td>284139100</td>\n",
       "      <td>260000000</td>\n",
       "      <td>24139100</td>\n",
       "    </tr>\n",
       "  </tbody>\n",
       "</table>\n",
       "</div>"
      ],
      "text/plain": [
       "       id                                     title     revenue     budget  \\\n",
       "0   19995                                    Avatar  2787965087  237000000   \n",
       "1     285  Pirates of the Caribbean: At World's End   961000000  300000000   \n",
       "2  206647                                   Spectre   880674609  245000000   \n",
       "3   49026                     The Dark Knight Rises  1084939099  250000000   \n",
       "4   49529                               John Carter   284139100  260000000   \n",
       "\n",
       "       margin  \n",
       "0  2550965087  \n",
       "1   661000000  \n",
       "2   635674609  \n",
       "3   834939099  \n",
       "4    24139100  "
      ]
     },
     "execution_count": 37,
     "metadata": {},
     "output_type": "execute_result"
    }
   ],
   "source": [
    "movies_margin = movies[['id','title','revenue','budget']].copy()\n",
    "movies_margin['margin'] = movies_margin['revenue']-movies_margin['budget']\n",
    "movies_margin.head()"
   ]
  },
  {
   "cell_type": "markdown",
   "metadata": {},
   "source": [
    "# Seventh request\n",
    "## For each movie, compute the number of crew members\n",
    "Similarly to what we have done for the first request, we can select *movie_id*, *title* and *crew* attributes. On the last one we apply `json.loads` to read information about crew members. The length of the list contained in each cell of the attribute *crew* corresponds to the number of crew members."
   ]
  },
  {
   "cell_type": "code",
   "execution_count": 36,
   "metadata": {
    "scrolled": true
   },
   "outputs": [
    {
     "data": {
      "text/html": [
       "<div>\n",
       "<style>\n",
       "    .dataframe thead tr:only-child th {\n",
       "        text-align: right;\n",
       "    }\n",
       "\n",
       "    .dataframe thead th {\n",
       "        text-align: left;\n",
       "    }\n",
       "\n",
       "    .dataframe tbody tr th {\n",
       "        vertical-align: top;\n",
       "    }\n",
       "</style>\n",
       "<table border=\"1\" class=\"dataframe\">\n",
       "  <thead>\n",
       "    <tr style=\"text-align: right;\">\n",
       "      <th></th>\n",
       "      <th>movie_id</th>\n",
       "      <th>title</th>\n",
       "      <th>crew</th>\n",
       "      <th>n_crew_members</th>\n",
       "    </tr>\n",
       "  </thead>\n",
       "  <tbody>\n",
       "    <tr>\n",
       "      <th>0</th>\n",
       "      <td>19995</td>\n",
       "      <td>Avatar</td>\n",
       "      <td>[{\"credit_id\": \"52fe48009251416c750aca23\", \"de...</td>\n",
       "      <td>153</td>\n",
       "    </tr>\n",
       "    <tr>\n",
       "      <th>1</th>\n",
       "      <td>285</td>\n",
       "      <td>Pirates of the Caribbean: At World's End</td>\n",
       "      <td>[{\"credit_id\": \"52fe4232c3a36847f800b579\", \"de...</td>\n",
       "      <td>32</td>\n",
       "    </tr>\n",
       "    <tr>\n",
       "      <th>2</th>\n",
       "      <td>206647</td>\n",
       "      <td>Spectre</td>\n",
       "      <td>[{\"credit_id\": \"54805967c3a36829b5002c41\", \"de...</td>\n",
       "      <td>155</td>\n",
       "    </tr>\n",
       "    <tr>\n",
       "      <th>3</th>\n",
       "      <td>49026</td>\n",
       "      <td>The Dark Knight Rises</td>\n",
       "      <td>[{\"credit_id\": \"52fe4781c3a36847f81398c3\", \"de...</td>\n",
       "      <td>217</td>\n",
       "    </tr>\n",
       "    <tr>\n",
       "      <th>4</th>\n",
       "      <td>49529</td>\n",
       "      <td>John Carter</td>\n",
       "      <td>[{\"credit_id\": \"52fe479ac3a36847f813eaa3\", \"de...</td>\n",
       "      <td>132</td>\n",
       "    </tr>\n",
       "  </tbody>\n",
       "</table>\n",
       "</div>"
      ],
      "text/plain": [
       "   movie_id                                     title  \\\n",
       "0     19995                                    Avatar   \n",
       "1       285  Pirates of the Caribbean: At World's End   \n",
       "2    206647                                   Spectre   \n",
       "3     49026                     The Dark Knight Rises   \n",
       "4     49529                               John Carter   \n",
       "\n",
       "                                                crew  n_crew_members  \n",
       "0  [{\"credit_id\": \"52fe48009251416c750aca23\", \"de...             153  \n",
       "1  [{\"credit_id\": \"52fe4232c3a36847f800b579\", \"de...              32  \n",
       "2  [{\"credit_id\": \"54805967c3a36829b5002c41\", \"de...             155  \n",
       "3  [{\"credit_id\": \"52fe4781c3a36847f81398c3\", \"de...             217  \n",
       "4  [{\"credit_id\": \"52fe479ac3a36847f813eaa3\", \"de...             132  "
      ]
     },
     "execution_count": 36,
     "metadata": {},
     "output_type": "execute_result"
    }
   ],
   "source": [
    "seventh = credits[['movie_id','title','crew']].copy()\n",
    "seventh['n_crew_members'] = seventh['crew'].apply(json.loads).apply(lambda x : len(x))\n",
    "seventh.head()"
   ]
  },
  {
   "cell_type": "markdown",
   "metadata": {},
   "source": [
    "# Eighth request\n",
    "## For each movie, compute the number of directors\n",
    "One of the normalized tables generated for the fifth request contains all the information we need to perform this task. We start by reading the csv file."
   ]
  },
  {
   "cell_type": "code",
   "execution_count": 13,
   "metadata": {
    "scrolled": true
   },
   "outputs": [],
   "source": [
    "crew = pd.read_csv(\"FIFTH_POINT/CREDITS/crew.csv\")"
   ]
  },
  {
   "cell_type": "markdown",
   "metadata": {},
   "source": [
    "We notice that there is a different number of unique movie ids between the **crew** table and the original **credits** table. We then proceed to investigate on this behaviour."
   ]
  },
  {
   "cell_type": "code",
   "execution_count": 14,
   "metadata": {},
   "outputs": [
    {
     "data": {
      "text/plain": [
       "4775"
      ]
     },
     "execution_count": 14,
     "metadata": {},
     "output_type": "execute_result"
    }
   ],
   "source": [
    "len(crew['movie_id'].unique()) "
   ]
  },
  {
   "cell_type": "markdown",
   "metadata": {},
   "source": [
    "This is because some movies have no crew members reported!"
   ]
  },
  {
   "cell_type": "code",
   "execution_count": 15,
   "metadata": {
    "scrolled": true
   },
   "outputs": [
    {
     "data": {
      "text/html": [
       "<div>\n",
       "<style>\n",
       "    .dataframe thead tr:only-child th {\n",
       "        text-align: right;\n",
       "    }\n",
       "\n",
       "    .dataframe thead th {\n",
       "        text-align: left;\n",
       "    }\n",
       "\n",
       "    .dataframe tbody tr th {\n",
       "        vertical-align: top;\n",
       "    }\n",
       "</style>\n",
       "<table border=\"1\" class=\"dataframe\">\n",
       "  <thead>\n",
       "    <tr style=\"text-align: right;\">\n",
       "      <th></th>\n",
       "      <th>movie_id</th>\n",
       "      <th>title</th>\n",
       "      <th>cast</th>\n",
       "      <th>crew</th>\n",
       "    </tr>\n",
       "  </thead>\n",
       "  <tbody>\n",
       "    <tr>\n",
       "      <th>3661</th>\n",
       "      <td>19615</td>\n",
       "      <td>Flying By</td>\n",
       "      <td>[{\"cast_id\": 1, \"character\": \"George\", \"credit...</td>\n",
       "      <td>[]</td>\n",
       "    </tr>\n",
       "    <tr>\n",
       "      <th>3670</th>\n",
       "      <td>447027</td>\n",
       "      <td>Running Forever</td>\n",
       "      <td>[]</td>\n",
       "      <td>[]</td>\n",
       "    </tr>\n",
       "    <tr>\n",
       "      <th>3977</th>\n",
       "      <td>55831</td>\n",
       "      <td>Boynton Beach Club</td>\n",
       "      <td>[{\"cast_id\": 1, \"character\": \"Marilyn\", \"credi...</td>\n",
       "      <td>[]</td>\n",
       "    </tr>\n",
       "    <tr>\n",
       "      <th>4068</th>\n",
       "      <td>371085</td>\n",
       "      <td>Sharkskin</td>\n",
       "      <td>[]</td>\n",
       "      <td>[]</td>\n",
       "    </tr>\n",
       "    <tr>\n",
       "      <th>4105</th>\n",
       "      <td>48382</td>\n",
       "      <td>The Book of Mormon Movie, Volume 1: The Journey</td>\n",
       "      <td>[{\"cast_id\": 1, \"character\": \"Sam\", \"credit_id...</td>\n",
       "      <td>[]</td>\n",
       "    </tr>\n",
       "  </tbody>\n",
       "</table>\n",
       "</div>"
      ],
      "text/plain": [
       "      movie_id                                            title  \\\n",
       "3661     19615                                        Flying By   \n",
       "3670    447027                                  Running Forever   \n",
       "3977     55831                               Boynton Beach Club   \n",
       "4068    371085                                        Sharkskin   \n",
       "4105     48382  The Book of Mormon Movie, Volume 1: The Journey   \n",
       "\n",
       "                                                   cast crew  \n",
       "3661  [{\"cast_id\": 1, \"character\": \"George\", \"credit...   []  \n",
       "3670                                                 []   []  \n",
       "3977  [{\"cast_id\": 1, \"character\": \"Marilyn\", \"credi...   []  \n",
       "4068                                                 []   []  \n",
       "4105  [{\"cast_id\": 1, \"character\": \"Sam\", \"credit_id...   []  "
      ]
     },
     "execution_count": 15,
     "metadata": {},
     "output_type": "execute_result"
    }
   ],
   "source": [
    "credits[credits.duplicated(subset=['crew'],keep=False)].head()"
   ]
  },
  {
   "cell_type": "markdown",
   "metadata": {},
   "source": [
    "We can compare the number of these movies to the difference between the number of unique movie ids of the two tables to find out that they match. So we cannot find the director of these movies after all."
   ]
  },
  {
   "cell_type": "code",
   "execution_count": 48,
   "metadata": {},
   "outputs": [
    {
     "name": "stdout",
     "output_type": "stream",
     "text": [
      "28\n",
      "28\n"
     ]
    }
   ],
   "source": [
    "print(credits[credits.duplicated(subset=['crew'],keep=False)].shape[0])\n",
    "print(len(credits['movie_id'].unique())  - len(crew['movie_id'].unique()) )"
   ]
  },
  {
   "cell_type": "markdown",
   "metadata": {},
   "source": [
    "The next step is to group our data by *movie_id* and *job*. Then we can create a new dataframe with the id and the number of directors of the movie. "
   ]
  },
  {
   "cell_type": "code",
   "execution_count": 49,
   "metadata": {},
   "outputs": [],
   "source": [
    "crew_gb  = crew.groupby(['movie_id','job'], as_index = False)\n",
    "movie_id = []\n",
    "n_directors = []\n",
    "for (k1,k2), group in crew_gb: \n",
    "    if k2 == 'Director':\n",
    "        movie_id.append(k1)\n",
    "        n_directors.append(group.shape[0])\n",
    "eighth = pd.DataFrame({'movie_id':movie_id, 'n_directors':n_directors})"
   ]
  },
  {
   "cell_type": "markdown",
   "metadata": {},
   "source": [
    "# Ninth request\n",
    "## For each language, compute the number of movies where such language is spoken.\n",
    "We again make use of a normalized table previously created. The data is read then grouped by the language *name*. The `size()` method counts how many entries there are for each group"
   ]
  },
  {
   "cell_type": "code",
   "execution_count": 53,
   "metadata": {},
   "outputs": [
    {
     "data": {
      "text/plain": [
       "name\n",
       "??????              1\n",
       "Afrikaans           7\n",
       "Bahasa indonesia    2\n",
       "Bamanankan          1\n",
       "Bosanski            2\n",
       "dtype: int64"
      ]
     },
     "execution_count": 53,
     "metadata": {},
     "output_type": "execute_result"
    }
   ],
   "source": [
    "languages = pd.read_csv(\"FIFTH_POINT/MOVIES/spoken_languages.csv\")\n",
    "ninth = languages.groupby('name').size()\n",
    "ninth.head()"
   ]
  },
  {
   "cell_type": "markdown",
   "metadata": {},
   "source": [
    "# Tenth request\n",
    "## For each company and each decade, compute the overall revenue\n",
    "The useful attributes for this task are *release_date*, *production_companies* and *revenue*. First we drop any movies without a release date. "
   ]
  },
  {
   "cell_type": "code",
   "execution_count": 14,
   "metadata": {},
   "outputs": [
    {
     "data": {
      "text/plain": [
       "(4802, 3)"
      ]
     },
     "execution_count": 14,
     "metadata": {},
     "output_type": "execute_result"
    }
   ],
   "source": [
    "tenth = movies[['release_date','production_companies','revenue']].dropna(subset=['release_date']).copy().reset_index(drop=True)\n",
    "tenth.shape"
   ]
  },
  {
   "cell_type": "markdown",
   "metadata": {},
   "source": [
    "To extract the decade which each movie belongs to we can take the year as done before and divide it by 10. A new column is thus created and the *release_date* attribute is dropped."
   ]
  },
  {
   "cell_type": "code",
   "execution_count": 15,
   "metadata": {},
   "outputs": [
    {
     "data": {
      "text/plain": [
       "(4802, 3)"
      ]
     },
     "execution_count": 15,
     "metadata": {},
     "output_type": "execute_result"
    }
   ],
   "source": [
    "tenth['decade'] = pd.DatetimeIndex(tenth['release_date']).year // 10\n",
    "tenth.drop(['release_date'], axis = 'columns', inplace = True )\n",
    "tenth.shape"
   ]
  },
  {
   "cell_type": "markdown",
   "metadata": {},
   "source": [
    "Since *production_companies* is formatted as a json document we can exploit code similar to what we have previously used. This time we will also append the *revenue* and the *decade* attributes to the normalized table. Since the *revenue* attribute refers to the movie total revenue, those movies that have more than one production company will have their revenue evenly split among the companies (even though this could not be the real case)."
   ]
  },
  {
   "cell_type": "code",
   "execution_count": 18,
   "metadata": {
    "scrolled": true
   },
   "outputs": [
    {
     "name": "stdout",
     "output_type": "stream",
     "text": [
      "Succesfully written normalized table to  TENTH_POINT/companies_decade_revenue.csv\n"
     ]
    }
   ],
   "source": [
    "companies = tenth['production_companies'].apply(json.loads)\n",
    "companies_df = pd.DataFrame()\n",
    "column_index = np.arange(4802)\n",
    "for index in column_index: \n",
    "    if len(companies[index]) != 0 :\n",
    "        company_df = pd.DataFrame(companies[index])\n",
    "        company_df['revenue'] = int(tenth['revenue'][index] / len(companies[index]))\n",
    "        company_df['decade'] = tenth['decade'][index]    \n",
    "        companies_df = pd.concat([companies_df,company_df])\n",
    "companies_df = companies_df.reset_index(drop=True)\n",
    "pl.Path('TENTH_POINT').mkdir(parents=False, exist_ok=True)\n",
    "path = \"TENTH_POINT/companies_decade_revenue.csv\"\n",
    "companies_df.to_csv(path_or_buf = path)\n",
    "print(\"Succesfully written normalized table to \", path)"
   ]
  },
  {
   "cell_type": "markdown",
   "metadata": {},
   "source": [
    "Now we can group by the *name* and the *decade*. Finally the `sum()` method provides us with the total revenue of the company in that decade."
   ]
  },
  {
   "cell_type": "code",
   "execution_count": 25,
   "metadata": {
    "scrolled": true
   },
   "outputs": [
    {
     "data": {
      "text/plain": [
       "name                             decade\n",
       "\"DIA\" Productions GmbH & Co. KG  200       11087731\n",
       "1.85 Films                       201          12252\n",
       "10 West Studios                  201              0\n",
       "100 Bares                        200        3773982\n",
       "                                 201        2666666\n",
       "Name: revenue, dtype: int64"
      ]
     },
     "execution_count": 25,
     "metadata": {},
     "output_type": "execute_result"
    }
   ],
   "source": [
    "companies_decade_revenue = companies_df.groupby(['name','decade'])['revenue'].sum()\n",
    "companies_decade_revenue.head()"
   ]
  },
  {
   "cell_type": "markdown",
   "metadata": {},
   "source": [
    "# Eleventh request\n",
    "## For each decade, compute the company with maximum revenue\n",
    "To solve this task we can proceed by identifying the companies having the maximum value of revenue grouped by *decade* in the normalized table created for the tenth request. The `idxmax()` outputs the indexes of such companies as a `pd.Series` object."
   ]
  },
  {
   "cell_type": "code",
   "execution_count": 28,
   "metadata": {},
   "outputs": [],
   "source": [
    "eleventh = pd.read_csv(\"TENTH_POINT/companies_decade_revenue.csv\")\n",
    "id_max_revenue = eleventh.groupby('decade', as_index = False)['revenue'].idxmax()"
   ]
  },
  {
   "cell_type": "code",
   "execution_count": 29,
   "metadata": {},
   "outputs": [
    {
     "data": {
      "text/html": [
       "<div>\n",
       "<style>\n",
       "    .dataframe thead tr:only-child th {\n",
       "        text-align: right;\n",
       "    }\n",
       "\n",
       "    .dataframe thead th {\n",
       "        text-align: left;\n",
       "    }\n",
       "\n",
       "    .dataframe tbody tr th {\n",
       "        vertical-align: top;\n",
       "    }\n",
       "</style>\n",
       "<table border=\"1\" class=\"dataframe\">\n",
       "  <thead>\n",
       "    <tr style=\"text-align: right;\">\n",
       "      <th></th>\n",
       "      <th>decade</th>\n",
       "      <th>name</th>\n",
       "      <th>revenue</th>\n",
       "    </tr>\n",
       "  </thead>\n",
       "  <tbody>\n",
       "    <tr>\n",
       "      <th>13415</th>\n",
       "      <td>191</td>\n",
       "      <td>Triangle Film Corporation</td>\n",
       "      <td>4197375</td>\n",
       "    </tr>\n",
       "    <tr>\n",
       "      <th>13509</th>\n",
       "      <td>192</td>\n",
       "      <td>Metro-Goldwyn-Mayer (MGM)</td>\n",
       "      <td>22000000</td>\n",
       "    </tr>\n",
       "    <tr>\n",
       "      <th>11961</th>\n",
       "      <td>193</td>\n",
       "      <td>Selznick International Pictures</td>\n",
       "      <td>200088229</td>\n",
       "    </tr>\n",
       "    <tr>\n",
       "      <th>13193</th>\n",
       "      <td>194</td>\n",
       "      <td>Walt Disney Productions</td>\n",
       "      <td>267447150</td>\n",
       "    </tr>\n",
       "    <tr>\n",
       "      <th>11365</th>\n",
       "      <td>195</td>\n",
       "      <td>Twentieth Century Fox Film Corporation</td>\n",
       "      <td>36000000</td>\n",
       "    </tr>\n",
       "    <tr>\n",
       "      <th>9648</th>\n",
       "      <td>196</td>\n",
       "      <td>Metro-Goldwyn-Mayer (MGM)</td>\n",
       "      <td>111858363</td>\n",
       "    </tr>\n",
       "    <tr>\n",
       "      <th>9640</th>\n",
       "      <td>197</td>\n",
       "      <td>Lucasfilm</td>\n",
       "      <td>387699003</td>\n",
       "    </tr>\n",
       "    <tr>\n",
       "      <th>9788</th>\n",
       "      <td>198</td>\n",
       "      <td>Universal Pictures</td>\n",
       "      <td>396455277</td>\n",
       "    </tr>\n",
       "    <tr>\n",
       "      <th>891</th>\n",
       "      <td>199</td>\n",
       "      <td>Lucasfilm</td>\n",
       "      <td>924317558</td>\n",
       "    </tr>\n",
       "    <tr>\n",
       "      <th>1275</th>\n",
       "      <td>200</td>\n",
       "      <td>Pixar Animation Studios</td>\n",
       "      <td>940335536</td>\n",
       "    </tr>\n",
       "    <tr>\n",
       "      <th>112</th>\n",
       "      <td>201</td>\n",
       "      <td>Marvel Studios</td>\n",
       "      <td>1215439994</td>\n",
       "    </tr>\n",
       "  </tbody>\n",
       "</table>\n",
       "</div>"
      ],
      "text/plain": [
       "       decade                                    name     revenue\n",
       "13415     191               Triangle Film Corporation     4197375\n",
       "13509     192               Metro-Goldwyn-Mayer (MGM)    22000000\n",
       "11961     193         Selznick International Pictures   200088229\n",
       "13193     194                 Walt Disney Productions   267447150\n",
       "11365     195  Twentieth Century Fox Film Corporation    36000000\n",
       "9648      196               Metro-Goldwyn-Mayer (MGM)   111858363\n",
       "9640      197                               Lucasfilm   387699003\n",
       "9788      198                      Universal Pictures   396455277\n",
       "891       199                               Lucasfilm   924317558\n",
       "1275      200                 Pixar Animation Studios   940335536\n",
       "112       201                          Marvel Studios  1215439994"
      ]
     },
     "execution_count": 29,
     "metadata": {},
     "output_type": "execute_result"
    }
   ],
   "source": [
    "eleventh.iloc[id_max_revenue][['decade','name','revenue']]"
   ]
  },
  {
   "cell_type": "markdown",
   "metadata": {},
   "source": [
    "# Twelth request\n",
    "## In each year, how many movies have revenue smaller than the budget?\n",
    "Again we begin by assigning a new column to the **movies** table to store the year of release for each movie."
   ]
  },
  {
   "cell_type": "code",
   "execution_count": 9,
   "metadata": {
    "scrolled": true
   },
   "outputs": [],
   "source": [
    "twelth = movies.dropna(subset=['release_date']).assign(year = pd.DatetimeIndex(movies.dropna(subset=['release_date'])['release_date']).year)\n",
    "twelth['year'] = twelth['year'].apply(lambda x: int(x))"
   ]
  },
  {
   "cell_type": "markdown",
   "metadata": {},
   "source": [
    "We can obtain all movies that have revenue smaller than the budget with conditional indexing. Then we proceed grouping on the *year* attribute and finally obtaining the number of movies for each year through the `size()` method."
   ]
  },
  {
   "cell_type": "code",
   "execution_count": 10,
   "metadata": {},
   "outputs": [
    {
     "data": {
      "text/plain": [
       "year\n",
       "1927    1\n",
       "1947    1\n",
       "1948    1\n",
       "1954    1\n",
       "1962    1\n",
       "dtype: int64"
      ]
     },
     "execution_count": 10,
     "metadata": {},
     "output_type": "execute_result"
    }
   ],
   "source": [
    "unsuccesful = twelth[twelth['revenue'] < twelth['budget']].groupby('year').size()\n",
    "unsuccesful.head()"
   ]
  },
  {
   "cell_type": "code",
   "execution_count": null,
   "metadata": {},
   "outputs": [],
   "source": []
  }
 ],
 "metadata": {
  "kernelspec": {
   "display_name": "Python 3",
   "language": "python",
   "name": "python3"
  },
  "language_info": {
   "codemirror_mode": {
    "name": "ipython",
    "version": 3
   },
   "file_extension": ".py",
   "mimetype": "text/x-python",
   "name": "python",
   "nbconvert_exporter": "python",
   "pygments_lexer": "ipython3",
   "version": "3.6.3"
  }
 },
 "nbformat": 4,
 "nbformat_minor": 2
}
